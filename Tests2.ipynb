{
 "cells": [
  {
   "cell_type": "code",
   "execution_count": 1,
   "id": "30217349-24f3-4ffa-be24-90afa5b93e95",
   "metadata": {},
   "outputs": [],
   "source": [
    "import numpy as np\n",
    "import pickle\n",
    "import gzip\n",
    "\n",
    "import mnist_loader\n",
    "from Net_test import *"
   ]
  },
  {
   "cell_type": "code",
   "execution_count": 2,
   "id": "1f670508-be25-4cd9-acd3-a57e98bb17a7",
   "metadata": {},
   "outputs": [],
   "source": [
    "training_data, validation_data, test_data = mnist_loader.load_data_wrapper()"
   ]
  },
  {
   "cell_type": "code",
   "execution_count": 4,
   "id": "d14283d1-bd97-44dd-8a6d-365fed97996e",
   "metadata": {},
   "outputs": [
    {
     "name": "stdout",
     "output_type": "stream",
     "text": [
      "Epoch 0: 7994 / 10000\n",
      "Epoch 1: 8174 / 10000\n",
      "Epoch 2: 8205 / 10000\n",
      "Epoch 3: 8279 / 10000\n",
      "Epoch 4: 9394 / 10000\n",
      "Epoch 5: 9416 / 10000\n",
      "Epoch 6: 9417 / 10000\n",
      "Epoch 7: 9455 / 10000\n",
      "Epoch 8: 9446 / 10000\n",
      "Epoch 9: 9419 / 10000\n"
     ]
    }
   ],
   "source": [
    "net = Network([784, 30, 10])\n",
    "net.SGD(training_data, 10, 10, 3.0, test_data = test_data)"
   ]
  }
 ],
 "metadata": {
  "kernelspec": {
   "display_name": "Python 3 (ipykernel)",
   "language": "python",
   "name": "python3"
  },
  "language_info": {
   "codemirror_mode": {
    "name": "ipython",
    "version": 3
   },
   "file_extension": ".py",
   "mimetype": "text/x-python",
   "name": "python",
   "nbconvert_exporter": "python",
   "pygments_lexer": "ipython3",
   "version": "3.10.13"
  }
 },
 "nbformat": 4,
 "nbformat_minor": 5
}
