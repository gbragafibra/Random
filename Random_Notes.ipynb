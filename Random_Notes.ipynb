{
 "cells": [
  {
   "cell_type": "markdown",
   "id": "926a32b3-6231-4251-ae94-26bd52d1ca9d",
   "metadata": {},
   "source": [
    "# Random Notes"
   ]
  },
  {
   "cell_type": "markdown",
   "id": "acfb415c-ac40-4072-a85b-79195bcf7c67",
   "metadata": {},
   "source": [
    "Given that the MacLaurin Series for $e^{x}$ is given by\n",
    "$$\n",
    "e^{x} = \\sum_{n=0}^{\\infty} \\frac{x^{n}}{n!} ,\\quad \\forall x\n",
    "$$\n",
    "then when $x = 1$ we have the approximation for $e$, as\n",
    "$$\n",
    "e = \\sum_{n=0}^{\\infty} \\frac{1}{n!} \n",
    "$$"
   ]
  },
  {
   "cell_type": "code",
   "execution_count": 2,
   "id": "bb131b41-b2ec-4328-9ef0-a9b2798b25b0",
   "metadata": {},
   "outputs": [
    {
     "name": "stdout",
     "output_type": "stream",
     "text": [
      "2.7182818284590455\n",
      "4.440892098500626e-16\n"
     ]
    }
   ],
   "source": [
    "import numpy as np\n",
    "import math\n",
    "\n",
    "n = 100 #number of iterations\n",
    "e_approx = 0\n",
    "for i in range(n):\n",
    "    e_approx += 1/math.factorial(i)\n",
    "print(e_approx)\n",
    "error = abs(np.e - e_approx)\n",
    "print(error)"
   ]
  },
  {
   "cell_type": "markdown",
   "id": "51d1ae3a-dd11-4c57-8570-0127640043c6",
   "metadata": {},
   "source": [
    "Regarding Stirling's approximation, we have that\n",
    "$$\n",
    "n! \\sim \\sqrt{2\\pi n}\\left(\\frac{n}{e}\\right)^{n}\n",
    "$$\n",
    "such that as $n \\rightarrow \\infty$, $\\frac{n!}{\\sqrt{2\\pi n}\\left(\\frac{n}{e}\\right)^{n}} \\simeq 1$. "
   ]
  },
  {
   "cell_type": "code",
   "execution_count": 11,
   "id": "d94da63a-2ade-4e12-8bff-5be2c5e49618",
   "metadata": {},
   "outputs": [
    {
     "name": "stdout",
     "output_type": "stream",
     "text": [
      "118.0191679575901\n",
      "1.9808320424099009\n"
     ]
    }
   ],
   "source": [
    "n = 5\n",
    "\n",
    "def n_fac_approx(n):\n",
    "    return np.sqrt(2*np.pi*n)*(n/np.e)**n\n",
    "\n",
    "print(n_fac_approx(n))\n",
    "error = abs(math.factorial(n) - n_fac_approx(n))\n",
    "print(error)"
   ]
  },
  {
   "cell_type": "markdown",
   "id": "0c37af03-c217-4477-b899-d2e9fce9b5e7",
   "metadata": {},
   "source": [
    "An approximation for $\\pi$ can be given by the expression\n",
    "$$\n",
    "\\frac{\\pi^{2}}{6} = \\sum_{n = 1}^{\\infty} \\frac{1}{n^{2}}\n",
    "$$\n",
    "such that\n",
    "$$\n",
    "\\pi = \\sqrt{6\\sum_{n = 1}^{\\infty} \\frac{1}{n^{2}}}\n",
    "$$"
   ]
  },
  {
   "cell_type": "code",
   "execution_count": 17,
   "id": "eb2fe89e-ddbe-4f65-aa14-1017859e5939",
   "metadata": {},
   "outputs": [
    {
     "name": "stdout",
     "output_type": "stream",
     "text": [
      "3.1411152718364823\n",
      "0.00047738175331080157\n"
     ]
    }
   ],
   "source": [
    "n = 2000 #number of iterations\n",
    "\n",
    "def pi_approx(n):\n",
    "    pi_approx_val = 0\n",
    "    for i in range(1,n+1):\n",
    "        pi_approx_val += 1/i**2\n",
    "    return np.sqrt(6*pi_approx_val)\n",
    "print(pi_approx(n))\n",
    "error = abs(np.pi - pi_approx(n))\n",
    "print(error)"
   ]
  },
  {
   "cell_type": "markdown",
   "id": "19c1a66e-c62c-431f-8d92-202f448a7fd6",
   "metadata": {},
   "source": [
    "Given that the average of a function can be stated as\n",
    "$$\n",
    "\\langle f(x) \\rangle = \\frac{1}{b-a} \\int_{a}^{b} f(x)dx\n",
    "$$\n",
    "we'll have\n",
    "$$\n",
    "(b-a) \\langle f(x) \\rangle = \\int_{a}^{b} f(x)dx\n",
    "$$\n",
    "such that\n",
    "$$\n",
    "\\frac{b-a}{N}\\sum_{i}f(x_{i}) \\approx \\int_{a}^{b} f(x)dx\n",
    "$$\n",
    "by taking $N$ points, between the interval $a$ and $b$, and evaluating $f$ at each $i^{th}$, leading to an approximation of the integral."
   ]
  },
  {
   "cell_type": "code",
   "execution_count": 28,
   "id": "5dae7229-0b21-47ba-bcf7-52cd4f0e2d27",
   "metadata": {},
   "outputs": [
    {
     "name": "stdout",
     "output_type": "stream",
     "text": [
      "41618.85110823132\n",
      "(41664.0, 4.625633209798252e-10)\n"
     ]
    }
   ],
   "source": [
    "import numpy as np\n",
    "from scipy.integrate import quad\n",
    "import random\n",
    "# Lets try for the function x^2, and bounds a = 2 to b = 50\n",
    "a = 2\n",
    "b = 50\n",
    "N = 1000 # number of points\n",
    "def approx(N,a,b):\n",
    "    value = 0\n",
    "    for i in range(N):\n",
    "        point = random.uniform(a,b)\n",
    "        value += point**2\n",
    "    return (b-a)/N * value\n",
    "print(approx(N,a,b))\n",
    "def integrand(x):\n",
    "    return x**2\n",
    "\n",
    "print(quad(integrand,a,b)) # Anyway need more points for better approximation wrt this integration"
   ]
  },
  {
   "cell_type": "markdown",
   "id": "2b4095f9-9c77-494b-88ca-00653f5acf02",
   "metadata": {},
   "source": [
    "Regarding the spectral densitity of eletromagnetic radiation emitted by a black body, we have Rayleigh-Jean's law given by\n",
    "$$\n",
    "f_{1}(\\lambda) = \\frac{8\\pi k T}{\\lambda^{4}}\n",
    "$$\n",
    "and Planck's law given by\n",
    "$$\n",
    "f_{2}(\\lambda) = \\frac{8\\pi h c \\lambda^{-5}}{e^{hc/(\\lambda kT)} - 1}\n",
    "$$\n",
    "For $\\lambda \\rightarrow \\infty$ we can develop the Taylor series for $f_{2}$ such that $f_{2} \\approx f_{1}$.\n",
    "\n",
    "In that case $x = \\frac{hc}{\\lambda kT}$, and $f_{2}$ will become\n",
    "$$\n",
    "f_{2}(\\lambda) = \\frac{8\\pi h c \\lambda^{-5}}{(1 + (hc/(\\lambda kT)) + \\frac{(hc/(\\lambda kT))^{2}}{2} + \\frac{(hc/(\\lambda kT))^{3}}{6} + ...) - 1}\n",
    "$$\n",
    "Given that $\\lambda \\rightarrow \\infty$ perhaps we can assume that only the first and second terms of that expansion matter, such that we have\n",
    "$$\n",
    "f_{2}(\\lambda) = \\frac{8\\pi h c \\lambda^{-5}}{hc/(\\lambda kT)}\n",
    "$$\n",
    "with this simplifying to \n",
    "$$\n",
    "f_{2}(\\lambda) = \\frac{8\\pi h c \\lambda^{-5}}{hc/(\\lambda kT)} = \\frac{8\\pi k T}{\\lambda^{4}} = f_{1}(\\lambda)\n",
    "$$\n",
    "\n",
    "Lets now play around and compare both expressions."
   ]
  },
  {
   "cell_type": "code",
   "execution_count": 41,
   "id": "ff652f72-7be5-47a7-87df-6bd192937cf1",
   "metadata": {},
   "outputs": [
    {
     "data": {
      "image/png": "[encoded data removed]",
      "text/plain": [
       "<Figure size 640x480 with 1 Axes>"
      ]
     },
     "metadata": {},
     "output_type": "display_data"
    }
   ],
   "source": [
    "import numpy as np\n",
    "import matplotlib.pyplot as plt\n",
    "#All in SI units\n",
    "h = 6.62e-34\n",
    "c = 3.00e8\n",
    "k = 1.38e-23\n",
    "T = 5700\n",
    "lamb = np.arange(1e-7,9e-6,1e-10) # Going for the micrometer range\n",
    "def rayleigh_jeans(k,T,lamb):\n",
    "    return (8*np.pi*k*T)/(lamb**4)\n",
    "\n",
    "def planck(h,c,k,T,lamb):\n",
    "    return (8*np.pi*h*c)/(lamb**5 * (-1 + np.e**((h*c)/(lamb*k*T))))\n",
    "\n",
    "plt.plot(lamb, rayleigh_jeans(k,T,lamb), label='Rayleigh-Jeans')\n",
    "plt.plot(lamb, planck(h,c,k,T,lamb), label='Planck')\n",
    "ax = plt.gca()\n",
    "ax.set_ylim(0, 2e6)\n",
    "plt.xlabel('$\\lambda$')\n",
    "plt.ylabel('$f(\\lambda)$')\n",
    "plt.legend()\n",
    "\n",
    "plt.show()\n"
   ]
  },
  {
   "cell_type": "code",
   "execution_count": null,
   "id": "316506fe-e39b-4354-907f-b7fe5bcc5c91",
   "metadata": {},
   "outputs": [],
   "source": []
  }
 ],
 "metadata": {
  "kernelspec": {
   "display_name": "Python 3 (ipykernel)",
   "language": "python",
   "name": "python3"
  },
  "language_info": {
   "codemirror_mode": {
    "name": "ipython",
    "version": 3
   },
   "file_extension": ".py",
   "mimetype": "text/x-python",
   "name": "python",
   "nbconvert_exporter": "python",
   "pygments_lexer": "ipython3",
   "version": "3.10.13"
  }
 },
 "nbformat": 4,
 "nbformat_minor": 5
}
