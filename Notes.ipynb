{
 "cells": [
  {
   "cell_type": "markdown",
   "id": "d377b2ce",
   "metadata": {},
   "source": [
    "# Notes"
   ]
  },
  {
   "cell_type": "markdown",
   "id": "d4091fef",
   "metadata": {},
   "source": [
    "A little exploration of some neural network frameworks, hoping to grasp more specifically recurrent neural networks, and reservoir computing, specially those directed towards physical reservoir computing, using in vitro/in vivo systems."
   ]
  },
  {
   "cell_type": "markdown",
   "id": "453837cb",
   "metadata": {},
   "source": [
    "One of the central interests comes from the prediction and reconstruction of time-series. A very nice characteristic of in vitro/in vivo systems, is that they have been under the \"evolutionary test\" for a reasonable amount of time, such that emerging from resource scarce conditions, majority of times, if not all, a bet-hedging scheme appears, along with majority of substrates in this respective system being multi-functional. This out of itself is pressed by a necessity not to optimize for what we perceive to be a single metric, but to minmax for an enormous set of them. After that, what would be an individual with its own incentives, is usually merged with other ones of the same scale, resulting in larger-scale networks that inherently constrain the state-space exploration of its constituents. \n",
    "All of this to say: There's a lot of non-linear dynamics to be harvested and to be used as a reservoir for time-series prediction. "
   ]
  },
  {
   "cell_type": "markdown",
   "id": "a7bd8bde",
   "metadata": {},
   "source": [
    "Furthermore, when talking about convergence to a certain state, or for that manner a set of them, taking into account the multi-functional charactertistic that majority of components take, we'll always have a minmax scheme. Or atleast something that is perceived as such, such that the feedback loops respective to such system being considered don't have enough or perfect resolution, for such systems to be considered fully deterministic. That, and what follows from game-theory after that: Exploit to the extent of not being exploited to failure. "
   ]
  },
  {
   "cell_type": "markdown",
   "id": "13af8e98",
   "metadata": {},
   "source": [
    "### On finding other abstractions in biology"
   ]
  },
  {
   "cell_type": "markdown",
   "id": "b89d0360",
   "metadata": {},
   "source": [
    "Perhaps we can state that some of the abstractions we have found successful in biology are themselves general principles. However, how much of these abstractions can we really say pertrain to the biological world. There's fundamentally no organism being described. Perhaps we don't have the mathematics for it yet.\n",
    "As another contender, we might instead dwelve into a relational approach, instead of relying in a mechanistic one, with category theory. However, again, is this approach not inherently too hard bounded. The moment we say that a certain object pertrains to a specific set, or to a finite amount of them, encapsulating some function, and then building on top of it some categoty, functor, or natural transformation, we are inherently missing the point. In the biological world, everything goes. In the sense that even if some protein has a known function (high correlation mechanism), it still partakes in the cellular milieu, and as such, is associated with every other perceptible \"function\", or for that manner every other that we can abstract.\n",
    "Are there other approaches to be discovered, that we have funnelled ourselves out of? For example, regarding heredity of form relative to multicellular systems. Who cares about preservation of genome, if I have the same geometry. What about the amount of heat released, and associated fluctuations? Can we link the thermodynamic/information-theoretic approach to biology?\n",
    "The problem is that physics seems indeed to be the exception, and biology the rule (this in terms of what types of systems and the way we describe their behaviour in each field).\n",
    "How can I form reasonable enough abstractions about systems with an unbelievable amount of compression? \n",
    "And then take into account looping realization that we aren't spectators. It also applies to us, whatever type of dynamics and constraints of exploration that you see across Nature, also limit our formalizations and abstractions."
   ]
  },
  {
   "cell_type": "code",
   "execution_count": null,
   "id": "d3971c3f",
   "metadata": {},
   "outputs": [],
   "source": []
  }
 ],
 "metadata": {
  "kernelspec": {
   "display_name": "Python 3 (ipykernel)",
   "language": "python",
   "name": "python3"
  },
  "language_info": {
   "codemirror_mode": {
    "name": "ipython",
    "version": 3
   },
   "file_extension": ".py",
   "mimetype": "text/x-python",
   "name": "python",
   "nbconvert_exporter": "python",
   "pygments_lexer": "ipython3",
   "version": "3.10.13"
  }
 },
 "nbformat": 4,
 "nbformat_minor": 5
}
