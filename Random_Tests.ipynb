{
 "cells": [
  {
   "cell_type": "code",
   "execution_count": 1,
   "id": "c03833b1-79ea-402e-a771-4096fd4d7913",
   "metadata": {},
   "outputs": [],
   "source": [
    "import numpy as np\n",
    "import random\n",
    "from scipy.integrate import quad"
   ]
  },
  {
   "cell_type": "markdown",
   "id": "bbb6d932-bf16-4fb3-b172-cdf6fb704689",
   "metadata": {},
   "source": [
    "Given that the average of a function can be stated as\n",
    "$$\n",
    "\\langle f(x) \\rangle = \\frac{1}{b-a} \\int_{a}^{b} f(x)dx\n",
    "$$\n",
    "we'll have\n",
    "$$\n",
    "(b-a) \\langle f(x) \\rangle = \\int_{a}^{b} f(x)dx\n",
    "$$\n",
    "such that\n",
    "$$\n",
    "\\frac{b-a}{N}\\sum_{i}f(x_{i}) \\approx \\int_{a}^{b} f(x)dx\n",
    "$$\n",
    "by taking $N$ points, between the interval $a$ and $b$, and evaluating $f$ at each $i^{th}$, leading to an approximation of the integral."
   ]
  },
  {
   "cell_type": "code",
   "execution_count": 16,
   "id": "953d201b-d38e-42be-99ac-1ddc8859bb53",
   "metadata": {},
   "outputs": [
    {
     "name": "stdout",
     "output_type": "stream",
     "text": [
      "0.969301183620843\n",
      "0.9999999999999999\n"
     ]
    }
   ],
   "source": [
    "f = lambda x: np.sin(x)\n",
    "a = 0\n",
    "b = np.pi / 2\n",
    "N = 1000\n",
    "\n",
    "def int_approx(f, a, b, N):\n",
    "    val = 0\n",
    "    for i in range(N):\n",
    "        val += f(random.uniform(a,b))\n",
    "\n",
    "    return (b-a) * val / N\n",
    "\n",
    "print(int_approx(f, a, b, N))\n",
    "print(quad(f, a, b)[0]) # quad(f, a, b)[1] returns uncertainty associated to intg val"
   ]
  }
 ],
 "metadata": {
  "kernelspec": {
   "display_name": "Python 3 (ipykernel)",
   "language": "python",
   "name": "python3"
  },
  "language_info": {
   "codemirror_mode": {
    "name": "ipython",
    "version": 3
   },
   "file_extension": ".py",
   "mimetype": "text/x-python",
   "name": "python",
   "nbconvert_exporter": "python",
   "pygments_lexer": "ipython3",
   "version": "3.10.13"
  }
 },
 "nbformat": 4,
 "nbformat_minor": 5
}
