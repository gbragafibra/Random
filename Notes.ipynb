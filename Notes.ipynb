{
 "cells": [
  {
   "cell_type": "markdown",
   "id": "d377b2ce",
   "metadata": {},
   "source": [
    "# Notes"
   ]
  },
  {
   "cell_type": "markdown",
   "id": "d4091fef",
   "metadata": {},
   "source": [
    "A little exploration of some neural network frameworks, hoping to grasp more specifically recurrent neural networks, and reservoir computing, specially those directed towards physical reservoir computing, using in vitro/in vivo systems."
   ]
  },
  {
   "cell_type": "markdown",
   "id": "453837cb",
   "metadata": {},
   "source": [
    "One of the central interests comes from the prediction and reconstruction of time-series. A very nice characteristic of in vitro/in vivo systems, is that they have been under the \"evolutionary test\" for a reasonable amount of time, such that emerging from resource scarce conditions, majority of times, if not all, a bet-hedging scheme appears, along with majority of substrates in this respective system being multi-functional. This out of itself is pressed by a necessity not to optimize for what we perceive to be a single metric, but to minmax for an enormous set of them. After that, what would be an individual with its own incentives, is usually merged with other ones of the same scale, resulting in larger-scale networks that inherently constrain the state-space exploration of its constituents. \n",
    "All of this to say: There's a lot of non-linear dynamics to be harvested and to be used as a reservoir for time-series prediction. "
   ]
  },
  {
   "cell_type": "markdown",
   "id": "a7bd8bde",
   "metadata": {},
   "source": [
    "Furthermore, when talking about convergence to a certain state, or for that manner a set of them, taking into account the multi-functional charactertistic that majority of components take, we'll always have a minmax scheme. Or atleast something that is perceived as such, such that the feedback loops respective to such system being considered don't have enough or perfect resolution, for such systems to be considered fully deterministic. That, and what follows from game-theory after that: Exploit to the extent of not being exploited to failure. "
   ]
  },
  {
   "cell_type": "markdown",
   "id": "13af8e98",
   "metadata": {},
   "source": [
    "### On finding other abstractions in biology"
   ]
  },
  {
   "cell_type": "markdown",
   "id": "b89d0360",
   "metadata": {},
   "source": [
    "Perhaps we can state that some of the abstractions we have found successful in biology are themselves general principles. However, how much of these abstractions can we really say pertrain to the biological world. There's fundamentally no organism being described. Perhaps we don't have the mathematics for it yet.\n",
    "As another contender, we might instead dwelve into a relational approach, instead of relying in a mechanistic one, with category theory. However, again, is this approach not inherently too hard bounded. The moment we say that a certain object pertrains to a specific set, or to a finite amount of them, encapsulating some function, and then building on top of it some categoty, functor, or natural transformation, we are inherently missing the point. In the biological world, everything goes. In the sense that even if some protein has a known function (high correlation mechanism), it still partakes in the cellular milieu, and as such, is associated with every other perceptible \"function\", or for that manner every other that we can abstract.\n",
    "Are there other approaches to be discovered, that we have funnelled ourselves out of? For example, regarding heredity of form relative to multicellular systems. Who cares about preservation of genome, if they have the same geometry. What about the amount of heat released, and associated fluctuations? Can we link the thermodynamic/information-theoretic approach to biology?\n",
    "The problem is that physics seems indeed to be the exception, and biology the rule (this in terms of what types of systems and the way we describe their behaviour in each field).\n",
    "How can I form reasonable enough abstractions about systems with an unbelievable amount of compression? \n",
    "And then take into account looping realization that we aren't spectators. It also applies to us, whatever type of dynamics and constraints of exploration that you see across Nature, also limit our formalizations and abstractions."
   ]
  },
  {
   "cell_type": "markdown",
   "id": "92fe9f5e-c4f0-43e7-b4d0-2a600cd789a6",
   "metadata": {},
   "source": [
    "#### Small notes on [Evolution \"On Purpose\": Teleonomy in Living Systems](https://direct.mit.edu/books/oa-edited-volume/5634/Evolution-On-Purpose-Teleonomy-in-Living-Systems) \n",
    "\n",
    "Whilst a good part of biology as a whole can be stated to be devoid of the organism, as pertaining to having a good theory of emergence relying on concepts like autopoiesis, autocatalysis, closure of constraints, and any other concept that tries to model the relation: constraints of a system dictate the dynamics, and the dynamics lead to an update of the constraints; it is nonetheless even more of an insormountable task given that we are not spectators. We are ourselves wholes, and parts at the same time, and as such our perceptions and through extention our formal systems (or the ones we can build) are themselves at mercy of an evolutionary process that usually tends to benefit robustness, in this case of larger scale networks, these ones enabling and perpetuating the conditions that gave rise to us (here largely thinking that a good chunck of bad options, has been selected out through evolutionary funnels).\n",
    "\n",
    "Regarding the concept of teleonomy, we can perhaps state that it exists such that living systems have an internal \"purposiveness\" or a collection of goal-states they act towards, and usually being characteristic of non-equilibrium systems. Also, atleast on this last remark, on long evolutionary scales, systems that have a better perception, and that themselves develop a more robust teleonomy, are going to be selected, as they can better model a world with other such systems they need to cooperate, compete, and merge with. Furthermore, living systems literally build themselves, such that fundamentally the biggest problem in addressing them, is mimicking and building a system that rebuilds over and over the perception of its own boundaries, whilst using a very complex internal antecipation system. This type of antecipation would rely on every part of the whole system, also being a whole itself with its own incentives (or goal-states), such that small changes in degrees of freedom in smaller parts would be allocated and propagated throughout a larger whole, resulting in the larger whole morphing the state-space of the smaller wholes so as to meet its own incentives. An important divergence from modern evolutionary synthesis, is that it easier to change a system through exploration of larger-scale modules, than through micromanaging lower-scale ones (wrt majority of cases of course).\n",
    "\n",
    "It is also perhaps important to note that this notion of internal \"purposiveness\" can also be seen merely through an analogue of state-space evolution, although only if seen by an \"observer-system\" that shares low to no information of the respective internal model. In fact, any type of dynamical system, specially non-equilibrium ones, can be put through this lens, and come out as having an internal drive, or set of goal-states (states it oscillates around and converges to). The huge problem on relying solely in describing the state-space of biological systems and using it for prediction, is that pre-stating such state-space and saying it predicts something reasonable, is usually the same as saying that such system stopped in time, with no other influences affecting it. "
   ]
  },
  {
   "cell_type": "code",
   "execution_count": null,
   "id": "f8536893-b3b3-40ec-b3cd-afbec401b005",
   "metadata": {},
   "outputs": [],
   "source": []
  }
 ],
 "metadata": {
  "kernelspec": {
   "display_name": "Python 3 (ipykernel)",
   "language": "python",
   "name": "python3"
  },
  "language_info": {
   "codemirror_mode": {
    "name": "ipython",
    "version": 3
   },
   "file_extension": ".py",
   "mimetype": "text/x-python",
   "name": "python",
   "nbconvert_exporter": "python",
   "pygments_lexer": "ipython3",
   "version": "3.10.13"
  }
 },
 "nbformat": 4,
 "nbformat_minor": 5
}
