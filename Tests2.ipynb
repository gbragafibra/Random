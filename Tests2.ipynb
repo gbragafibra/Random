{
 "cells": [
  {
   "cell_type": "code",
   "execution_count": 1,
   "id": "30217349-24f3-4ffa-be24-90afa5b93e95",
   "metadata": {},
   "outputs": [],
   "source": [
    "import mnist_loader\n",
    "from Net_test import *"
   ]
  },
  {
   "cell_type": "code",
   "execution_count": 2,
   "id": "1f670508-be25-4cd9-acd3-a57e98bb17a7",
   "metadata": {},
   "outputs": [],
   "source": [
    "training_data, validation_data, test_data = mnist_loader.load_data_wrapper()"
   ]
  },
  {
   "cell_type": "code",
   "execution_count": 4,
   "id": "d14283d1-bd97-44dd-8a6d-365fed97996e",
   "metadata": {},
   "outputs": [
    {
     "name": "stdout",
     "output_type": "stream",
     "text": [
      "Epoch 0: 9149 / 10000, elapsed time: 14.87s\n",
      "Epoch 1: 9246 / 10000, elapsed time: 29.39s\n"
     ]
    }
   ],
   "source": [
    "net = Network([784, 30, 10])\n",
    "net.SGD(training_data, 2, 10, 3.0, test_data = test_data)"
   ]
  },
  {
   "cell_type": "code",
   "execution_count": 5,
   "id": "c931a37b-ee11-48b8-8a28-5f1f24286635",
   "metadata": {},
   "outputs": [],
   "source": [
    "from Net_test_matrix import *"
   ]
  },
  {
   "cell_type": "code",
   "execution_count": 6,
   "id": "635331fa-dcd3-49ed-80f8-2db2b13730ed",
   "metadata": {},
   "outputs": [
    {
     "name": "stdout",
     "output_type": "stream",
     "text": [
      "Epoch 0: 9070 / 10000, elapsed time: 1.93s\n",
      "Epoch 1: 9182 / 10000, elapsed time: 3.85s\n"
     ]
    }
   ],
   "source": [
    "net_mat = Network_mat([784, 30, 10])\n",
    "net_mat.SGD(training_data, 2, 10, 3.0, test_data = test_data)"
   ]
  },
  {
   "cell_type": "markdown",
   "id": "368f63de-c01b-4643-a33f-8ac4aa3f400a",
   "metadata": {},
   "source": [
    "Almost 8 times faster, for the matrix approach. However, only did 2 epochs."
   ]
  },
  {
   "cell_type": "code",
   "execution_count": 3,
   "id": "52866d75-4514-452c-bfd9-f239f65f03b7",
   "metadata": {},
   "outputs": [],
   "source": [
    "from Net_test2 import *"
   ]
  },
  {
   "cell_type": "code",
   "execution_count": 4,
   "id": "33065608-d7a3-4eb3-9bda-7ac7960a3be2",
   "metadata": {},
   "outputs": [
    {
     "name": "stdout",
     "output_type": "stream",
     "text": [
      "Epoch 0 training complete\n",
      "Cost on training data: 0.4621532904059535\n",
      "Accuracy on training data: 47163 / 50000\n",
      "Cost on evaluation data: 0.7648629173072234\n",
      "Accuracy on evaluation data: 9444 / 10000\n",
      "Epoch 1 training complete\n",
      "Cost on training data: 0.4407298441805075\n",
      "Accuracy on training data: 47469 / 50000\n",
      "Cost on evaluation data: 0.8429240008249279\n",
      "Accuracy on evaluation data: 9501 / 10000\n"
     ]
    },
    {
     "data": {
      "text/plain": [
       "([0.7648629173072234, 0.8429240008249279],\n",
       " [9444, 9501],\n",
       " [0.4621532904059535, 0.4407298441805075],\n",
       " [47163, 47469])"
      ]
     },
     "execution_count": 4,
     "metadata": {},
     "output_type": "execute_result"
    }
   ],
   "source": [
    "net2 = Network2([784, 30, 10], cost=CrossEntropyCost)\n",
    "net2.SGD(training_data, 2, 10, 0.5,\n",
    "        lmbda = 5.0,\n",
    "        evaluation_data=validation_data,\n",
    "        monitor_evaluation_accuracy=True,\n",
    "        monitor_evaluation_cost=True,\n",
    "        monitor_training_accuracy=True,\n",
    "        monitor_training_cost=True)"
   ]
  }
 ],
 "metadata": {
  "kernelspec": {
   "display_name": "Python 3 (ipykernel)",
   "language": "python",
   "name": "python3"
  },
  "language_info": {
   "codemirror_mode": {
    "name": "ipython",
    "version": 3
   },
   "file_extension": ".py",
   "mimetype": "text/x-python",
   "name": "python",
   "nbconvert_exporter": "python",
   "pygments_lexer": "ipython3",
   "version": "3.10.13"
  }
 },
 "nbformat": 4,
 "nbformat_minor": 5
}
