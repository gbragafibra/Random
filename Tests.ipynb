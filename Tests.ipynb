{
 "cells": [
  {
   "cell_type": "code",
   "execution_count": 20,
   "id": "44e6b66b-b16e-49d5-9a07-90b9024ac126",
   "metadata": {},
   "outputs": [
    {
     "name": "stdout",
     "output_type": "stream",
     "text": [
      "-1\n"
     ]
    }
   ],
   "source": [
    "import numpy as np\n",
    "\n",
    "class Neuron:\n",
    "\n",
    "    def __init__(self, n_inputs):\n",
    "        #Initialize weights and bias\n",
    "        self.weights = np.random.rand(n_inputs)\n",
    "        self.bias = np.random.rand()\n",
    " \n",
    "    def forward(self, inputs): # With Metropolis\n",
    "        sum = np.dot(self.weights, inputs) + self.bias\n",
    "        delta = sum * self.stochastic_sigmoid(sum)\n",
    "\n",
    "        if delta <= 0:\n",
    "            output = self.stochastic_sigmoid(sum)\n",
    "        else:\n",
    "            if np.random.rand() <= np.e**(-delta):\n",
    "                output = self.stochastic_sigmoid(sum)\n",
    "            else:\n",
    "                output = self.stochastic_sigmoid(sum)\n",
    "        return output\n",
    "\n",
    "    def stochastic_sigmoid(self, x): \n",
    "        if np.random.rand() <= 1/(1 + np.e**(-x)):\n",
    "            y = 1\n",
    "        else:\n",
    "            y = -1\n",
    "        \n",
    "        return y\n",
    "\n",
    "neuron = Neuron(5) # 5 inputs\n",
    "inputs = np.array([-10.2, 0.5, -2.5, 2.4, 5.2])\n",
    "output = neuron.forward(inputs)\n",
    "\n",
    "print(output)"
   ]
  },
  {
   "cell_type": "markdown",
   "id": "8614d26a-9dc9-442c-965e-5281e8ccbd4c",
   "metadata": {},
   "source": [
    "So according to the Metropolis rule, we would compute $\\Delta = z * f(z)$, where $f(z) = 1$ with probability $\\frac{1}{1 + e^{-z}}$, and $f(z) = -1$ otherwise. Following that if $\\Delta \\leqslant 0$, we flip $f(z)$ to the opposite state, and if $\\Delta > 0$, $f(z)$ is flipped with probability $e^{-\\Delta}$."
   ]
  }
 ],
 "metadata": {
  "kernelspec": {
   "display_name": "Python 3 (ipykernel)",
   "language": "python",
   "name": "python3"
  },
  "language_info": {
   "codemirror_mode": {
    "name": "ipython",
    "version": 3
   },
   "file_extension": ".py",
   "mimetype": "text/x-python",
   "name": "python",
   "nbconvert_exporter": "python",
   "pygments_lexer": "ipython3",
   "version": "3.10.13"
  }
 },
 "nbformat": 4,
 "nbformat_minor": 5
}
